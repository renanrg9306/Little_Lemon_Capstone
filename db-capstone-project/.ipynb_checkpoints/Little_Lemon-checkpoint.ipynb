{
 "cells": [
  {
   "cell_type": "code",
   "execution_count": 4,
   "id": "7edc772f-16c6-4a59-8989-55c2c5356457",
   "metadata": {},
   "outputs": [],
   "source": [
    "import mysql.connector as connector"
   ]
  },
  {
   "cell_type": "code",
   "execution_count": 14,
   "id": "d38dde48-0054-48be-811c-456a6587f15d",
   "metadata": {},
   "outputs": [],
   "source": [
    "connection = connector.connect(user = \"root\", password=\"rosales93.\", db = \"mydb\")"
   ]
  },
  {
   "cell_type": "code",
   "execution_count": 15,
   "id": "0098f890-01d5-475c-bc3e-0555979b75fb",
   "metadata": {},
   "outputs": [],
   "source": [
    "cursor = connection.cursor()"
   ]
  },
  {
   "cell_type": "code",
   "execution_count": 16,
   "id": "88f312c6-be6a-4d50-812a-6de787bb0377",
   "metadata": {},
   "outputs": [],
   "source": [
    "show_table_query = \"SHOW tables\""
   ]
  },
  {
   "cell_type": "code",
   "execution_count": 17,
   "id": "03abe3c3-4fd1-4513-8942-9972b5fdd03b",
   "metadata": {},
   "outputs": [],
   "source": [
    "cursor.execute(show_table_query)"
   ]
  },
  {
   "cell_type": "code",
   "execution_count": 18,
   "id": "5577072b-e674-43d7-9e35-b76ee0c71416",
   "metadata": {},
   "outputs": [],
   "source": [
    "result = cursor.fetchall()"
   ]
  },
  {
   "cell_type": "code",
   "execution_count": 19,
   "id": "82d9f625-8962-452a-b89e-35014d60c966",
   "metadata": {},
   "outputs": [
    {
     "name": "stdout",
     "output_type": "stream",
     "text": [
      "[('address',), ('booking',), ('category',), ('customer',), ('delivery',), ('higherorderview',), ('menu_item',), ('orders',), ('orderview',), ('persona',), ('staff',)]\n"
     ]
    }
   ],
   "source": [
    "print(result)"
   ]
  },
  {
   "cell_type": "code",
   "execution_count": null,
   "id": "5f0a8128-801e-46d0-a0e6-686aaac037dd",
   "metadata": {},
   "outputs": [],
   "source": []
  }
 ],
 "metadata": {
  "kernelspec": {
   "display_name": "Python 3 (ipykernel)",
   "language": "python",
   "name": "python3"
  },
  "language_info": {
   "codemirror_mode": {
    "name": "ipython",
    "version": 3
   },
   "file_extension": ".py",
   "mimetype": "text/x-python",
   "name": "python",
   "nbconvert_exporter": "python",
   "pygments_lexer": "ipython3",
   "version": "3.13.1"
  }
 },
 "nbformat": 4,
 "nbformat_minor": 5
}
